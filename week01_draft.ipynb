{
 "cells": [
  {
   "cell_type": "markdown",
   "metadata": {
    "collapsed": true
   },
   "source": [
    "### Machine learning examples:\n",
    "\n",
    "- Database mining  \n",
    "- Applications can't programmed by hand  \n",
    "- Self-customizing programs  \n",
    "- Understand human learning  \n",
    "\n",
    "### Machine learning algorithm:  \n",
    "\n",
    "- supervised learning  \n",
    "- unsupervised learning  \n",
    "- reinforcement learning  \n",
    "- recommender systems  \n",
    "\n",
    "### Supervised learning: use dataset to predict  \n",
    "\n",
    "- Regression: continuous value  \n",
    "- Classification: discrete value  \n",
    "\n",
    "### Upsupervised learning:  \n",
    "\n",
    "- clustering  \n",
    "- non-clustering  \n",
    "\n",
    "    for examples:  \n",
    "    \n",
    "    - social net analysis  \n",
    "    - market segmentation  \n",
    "    - astronomical data analysis  \n",
    "\n",
    "### Coding environment: Matlab/Octave  \n",
    "\n",
    "### Norm:  \n",
    "\n",
    "- m: Number of training examples  \n",
    "- X's: 'input' variable/features  \n",
    "- y's: 'output' variable/ 'target' variable  \n",
    "- (x,y): single training example  \n",
    "- (x(i), y(i)): the ith training example  \n"
   ]
  },
  {
   "cell_type": "code",
   "execution_count": null,
   "metadata": {
    "collapsed": true
   },
   "outputs": [],
   "source": []
  },
  {
   "cell_type": "code",
   "execution_count": null,
   "metadata": {
    "collapsed": true
   },
   "outputs": [],
   "source": []
  },
  {
   "cell_type": "code",
   "execution_count": null,
   "metadata": {
    "collapsed": true
   },
   "outputs": [],
   "source": []
  },
  {
   "cell_type": "code",
   "execution_count": null,
   "metadata": {
    "collapsed": true
   },
   "outputs": [],
   "source": []
  },
  {
   "cell_type": "code",
   "execution_count": null,
   "metadata": {
    "collapsed": true
   },
   "outputs": [],
   "source": []
  },
  {
   "cell_type": "markdown",
   "metadata": {},
   "source": [
    "### Changelog:\n",
    "- 17.09.09 新增"
   ]
  },
  {
   "cell_type": "markdown",
   "metadata": {},
   "source": [
    "参考资料： \n",
    "- n.a."
   ]
  }
 ],
 "metadata": {
  "kernelspec": {
   "display_name": "Python 3",
   "language": "python",
   "name": "python3"
  },
  "language_info": {
   "codemirror_mode": {
    "name": "ipython",
    "version": 3
   },
   "file_extension": ".py",
   "mimetype": "text/x-python",
   "name": "python",
   "nbconvert_exporter": "python",
   "pygments_lexer": "ipython3",
   "version": "3.6.0"
  }
 },
 "nbformat": 4,
 "nbformat_minor": 2
}
